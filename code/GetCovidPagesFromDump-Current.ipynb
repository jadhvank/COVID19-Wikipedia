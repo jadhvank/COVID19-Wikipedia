{
 "cells": [
  {
   "cell_type": "markdown",
   "metadata": {},
   "source": [
    "# Get covid related pages from the dumps\n",
    "By Diego Saez-Trumper\n",
    "Sept 18, 2020"
   ]
  },
  {
   "cell_type": "code",
   "execution_count": 1,
   "metadata": {},
   "outputs": [],
   "source": [
    "import pandas as pd\n",
    "import glob,gzip\n",
    "\n",
    "#Reading input data\n",
    "languages = glob.glob('wik*clean*v3*')\n",
    "pages = {}\n",
    "idsToWikidata = {}\n",
    "for lang in languages:\n",
    "    langcode =lang[-10:-8]\n",
    "    pages[langcode] = pd.read_csv(lang,index_col=0)\n",
    "    pages[langcode]['Wikidata'] = pages[langcode].index\n",
    "    #Here we build a dictionary mapping page_ids to Wikidata Item\n",
    "    idsToWikidata[langcode] =    pages[langcode][['page_id','Wikidata']].set_index('page_id').to_dict()['Wikidata']\n",
    "    "
   ]
  },
  {
   "cell_type": "code",
   "execution_count": 2,
   "metadata": {},
   "outputs": [],
   "source": [
    "def process_dump(dump,  path):\n",
    "    global lang\n",
    "    global pages\n",
    "    global idsToWikidata\n",
    "    for page in dump:    \n",
    "        if page.namespace == 0:\n",
    "            if int(page.id) in idsToWikidata[lang]:\n",
    "                for revision in page: \n",
    "                    try:\n",
    "                    \n",
    "                        output = {'page_id':page.id,'page_title':page.title,\n",
    "                                  'text':revision.text,'QID':idsToWikidata[lang][page.id],\n",
    "                                 'revision':revision.id,'time':str(revision.timestamp)}\n",
    "                        yield output\n",
    "                    except:\n",
    "                        pass\n"
   ]
  },
  {
   "cell_type": "code",
   "execution_count": 4,
   "metadata": {},
   "outputs": [
    {
     "name": "stdout",
     "output_type": "stream",
     "text": [
      "zh\n",
      "['/mnt/data/xmldatadumps/public/zhwiki/20200820/zhwiki-20200820-pages-meta-current6.xml-p6231440p7171101.bz2', '/mnt/data/xmldatadumps/public/zhwiki/20200820/zhwiki-20200820-pages-meta-current5.xml-p2771087p4271086.bz2', '/mnt/data/xmldatadumps/public/zhwiki/20200820/zhwiki-20200820-pages-meta-current5.xml-p4271087p4731439.bz2', '/mnt/data/xmldatadumps/public/zhwiki/20200820/zhwiki-20200820-pages-meta-current4.xml-p1154618p2654617.bz2', '/mnt/data/xmldatadumps/public/zhwiki/20200820/zhwiki-20200820-pages-meta-current6.xml-p4731440p6231439.bz2', '/mnt/data/xmldatadumps/public/zhwiki/20200820/zhwiki-20200820-pages-meta-current2.xml-p162887p544644.bz2', '/mnt/data/xmldatadumps/public/zhwiki/20200820/zhwiki-20200820-pages-meta-current1.xml-p1p162886.bz2', '/mnt/data/xmldatadumps/public/zhwiki/20200820/zhwiki-20200820-pages-meta-current4.xml-p2654618p2771086.bz2', '/mnt/data/xmldatadumps/public/zhwiki/20200820/zhwiki-20200820-pages-meta-current3.xml-p544645p1154617.bz2']\n",
      "ru\n",
      "['/mnt/data/xmldatadumps/public/ruwiki/20200820/ruwiki-20200820-pages-meta-current5.xml-p4898622p5469718.bz2', '/mnt/data/xmldatadumps/public/ruwiki/20200820/ruwiki-20200820-pages-meta-current2.xml-p204181p917514.bz2', '/mnt/data/xmldatadumps/public/ruwiki/20200820/ruwiki-20200820-pages-meta-current6.xml-p5469719p6969718.bz2', '/mnt/data/xmldatadumps/public/ruwiki/20200820/ruwiki-20200820-pages-meta-current6.xml-p6969719p8468956.bz2', '/mnt/data/xmldatadumps/public/ruwiki/20200820/ruwiki-20200820-pages-meta-current4.xml-p1938396p3398621.bz2', '/mnt/data/xmldatadumps/public/ruwiki/20200820/ruwiki-20200820-pages-meta-current5.xml-p3398622p4898621.bz2', '/mnt/data/xmldatadumps/public/ruwiki/20200820/ruwiki-20200820-pages-meta-current1.xml-p1p204180.bz2', '/mnt/data/xmldatadumps/public/ruwiki/20200820/ruwiki-20200820-pages-meta-current3.xml-p917515p1938395.bz2']\n",
      "is\n",
      "[]\n",
      "pt\n",
      "['/mnt/data/xmldatadumps/public/ptwiki/20200820/ptwiki-20200820-pages-meta-current5.xml-p2522163p4022162.bz2', '/mnt/data/xmldatadumps/public/ptwiki/20200820/ptwiki-20200820-pages-meta-current5.xml-p4022163p4362696.bz2', '/mnt/data/xmldatadumps/public/ptwiki/20200820/ptwiki-20200820-pages-meta-current1.xml-p1p95099.bz2', '/mnt/data/xmldatadumps/public/ptwiki/20200820/ptwiki-20200820-pages-meta-current3.xml-p442471p1428489.bz2', '/mnt/data/xmldatadumps/public/ptwiki/20200820/ptwiki-20200820-pages-meta-current6.xml-p5862697p6356489.bz2', '/mnt/data/xmldatadumps/public/ptwiki/20200820/ptwiki-20200820-pages-meta-current6.xml-p4362697p5862696.bz2', '/mnt/data/xmldatadumps/public/ptwiki/20200820/ptwiki-20200820-pages-meta-current4.xml-p1428490p2522162.bz2', '/mnt/data/xmldatadumps/public/ptwiki/20200820/ptwiki-20200820-pages-meta-current2.xml-p95100p442470.bz2']\n",
      "it\n",
      "['/mnt/data/xmldatadumps/public/itwiki/20200820/itwiki-20200820-pages-meta-current3.xml-p1057873p1959895.bz2', '/mnt/data/xmldatadumps/public/itwiki/20200820/itwiki-20200820-pages-meta-current6.xml-p5013199p6513198.bz2', '/mnt/data/xmldatadumps/public/itwiki/20200820/itwiki-20200820-pages-meta-current6.xml-p8013199p8619073.bz2', '/mnt/data/xmldatadumps/public/itwiki/20200820/itwiki-20200820-pages-meta-current1.xml-p1p277091.bz2', '/mnt/data/xmldatadumps/public/itwiki/20200820/itwiki-20200820-pages-meta-current4.xml-p1959896p3147942.bz2', '/mnt/data/xmldatadumps/public/itwiki/20200820/itwiki-20200820-pages-meta-current5.xml-p3147943p4647942.bz2', '/mnt/data/xmldatadumps/public/itwiki/20200820/itwiki-20200820-pages-meta-current2.xml-p277092p1057872.bz2', '/mnt/data/xmldatadumps/public/itwiki/20200820/itwiki-20200820-pages-meta-current5.xml-p4647943p5013198.bz2', '/mnt/data/xmldatadumps/public/itwiki/20200820/itwiki-20200820-pages-meta-current6.xml-p6513199p8013198.bz2']\n",
      "ar\n",
      "['/mnt/data/xmldatadumps/public/arwiki/20200820/arwiki-20200820-pages-meta-current6.xml-p5259345p6759344.bz2', '/mnt/data/xmldatadumps/public/arwiki/20200820/arwiki-20200820-pages-meta-current3.xml-p630707p1428633.bz2', '/mnt/data/xmldatadumps/public/arwiki/20200820/arwiki-20200820-pages-meta-current6.xml-p3759345p5259344.bz2', '/mnt/data/xmldatadumps/public/arwiki/20200820/arwiki-20200820-pages-meta-current6.xml-p6759345p7790774.bz2', '/mnt/data/xmldatadumps/public/arwiki/20200820/arwiki-20200820-pages-meta-current1.xml-p1p186249.bz2', '/mnt/data/xmldatadumps/public/arwiki/20200820/arwiki-20200820-pages-meta-current4.xml-p1428634p2417163.bz2', '/mnt/data/xmldatadumps/public/arwiki/20200820/arwiki-20200820-pages-meta-current2.xml-p186250p630706.bz2', '/mnt/data/xmldatadumps/public/arwiki/20200820/arwiki-20200820-pages-meta-current5.xml-p2417164p3759344.bz2']\n"
     ]
    },
    {
     "name": "stderr",
     "output_type": "stream",
     "text": [
      "Namespace id conflict detected.  <title>=مستخدم:منصورالواقدي/مقالات, <namespace>=105, mapped_namespace=2\n"
     ]
    },
    {
     "name": "stdout",
     "output_type": "stream",
     "text": [
      "fr\n",
      "['/mnt/data/xmldatadumps/public/frwiki/20200820/frwiki-20200820-pages-meta-current5.xml-p6092356p7494128.bz2', '/mnt/data/xmldatadumps/public/frwiki/20200820/frwiki-20200820-pages-meta-current4.xml-p2516882p4016881.bz2', '/mnt/data/xmldatadumps/public/frwiki/20200820/frwiki-20200820-pages-meta-current3.xml-p2427546p2516881.bz2', '/mnt/data/xmldatadumps/public/frwiki/20200820/frwiki-20200820-pages-meta-current3.xml-p927546p2427545.bz2', '/mnt/data/xmldatadumps/public/frwiki/20200820/frwiki-20200820-pages-meta-current6.xml-p8994129p10494128.bz2', '/mnt/data/xmldatadumps/public/frwiki/20200820/frwiki-20200820-pages-meta-current4.xml-p4016882p4592355.bz2', '/mnt/data/xmldatadumps/public/frwiki/20200820/frwiki-20200820-pages-meta-current6.xml-p7494129p8994128.bz2', '/mnt/data/xmldatadumps/public/frwiki/20200820/frwiki-20200820-pages-meta-current6.xml-p11994129p13494128.bz2', '/mnt/data/xmldatadumps/public/frwiki/20200820/frwiki-20200820-pages-meta-current1.xml-p1p275787.bz2', '/mnt/data/xmldatadumps/public/frwiki/20200820/frwiki-20200820-pages-meta-current6.xml-p13494129p13537668.bz2', '/mnt/data/xmldatadumps/public/frwiki/20200820/frwiki-20200820-pages-meta-current5.xml-p4592356p6092355.bz2', '/mnt/data/xmldatadumps/public/frwiki/20200820/frwiki-20200820-pages-meta-current6.xml-p10494129p11994128.bz2', '/mnt/data/xmldatadumps/public/frwiki/20200820/frwiki-20200820-pages-meta-current2.xml-p275788p927545.bz2']\n",
      "de\n",
      "['/mnt/data/xmldatadumps/public/dewiki/20200820/dewiki-20200820-pages-meta-current6.xml-p11342169p11429436.bz2', '/mnt/data/xmldatadumps/public/dewiki/20200820/dewiki-20200820-pages-meta-current2.xml-p262469p1095940.bz2', '/mnt/data/xmldatadumps/public/dewiki/20200820/dewiki-20200820-pages-meta-current4.xml-p4420049p5466275.bz2', '/mnt/data/xmldatadumps/public/dewiki/20200820/dewiki-20200820-pages-meta-current6.xml-p9842169p11342168.bz2', '/mnt/data/xmldatadumps/public/dewiki/20200820/dewiki-20200820-pages-meta-current5.xml-p5466276p6966275.bz2', '/mnt/data/xmldatadumps/public/dewiki/20200820/dewiki-20200820-pages-meta-current3.xml-p2595941p2920048.bz2', '/mnt/data/xmldatadumps/public/dewiki/20200820/dewiki-20200820-pages-meta-current1.xml-p1p262468.bz2', '/mnt/data/xmldatadumps/public/dewiki/20200820/dewiki-20200820-pages-meta-current6.xml-p8342169p9842168.bz2', '/mnt/data/xmldatadumps/public/dewiki/20200820/dewiki-20200820-pages-meta-current3.xml-p1095941p2595940.bz2', '/mnt/data/xmldatadumps/public/dewiki/20200820/dewiki-20200820-pages-meta-current5.xml-p6966276p8342168.bz2', '/mnt/data/xmldatadumps/public/dewiki/20200820/dewiki-20200820-pages-meta-current4.xml-p2920049p4420048.bz2']\n",
      "ja\n",
      "['/mnt/data/xmldatadumps/public/jawiki/20200820/jawiki-20200820-pages-meta-current1.xml-p1p106178.bz2', '/mnt/data/xmldatadumps/public/jawiki/20200820/jawiki-20200820-pages-meta-current6.xml-p4034193p4199992.bz2', '/mnt/data/xmldatadumps/public/jawiki/20200820/jawiki-20200820-pages-meta-current4.xml-p803168p1541170.bz2', '/mnt/data/xmldatadumps/public/jawiki/20200820/jawiki-20200820-pages-meta-current5.xml-p1541171p2534192.bz2', '/mnt/data/xmldatadumps/public/jawiki/20200820/jawiki-20200820-pages-meta-current2.xml-p106179p350785.bz2', '/mnt/data/xmldatadumps/public/jawiki/20200820/jawiki-20200820-pages-meta-current6.xml-p2534193p4034192.bz2', '/mnt/data/xmldatadumps/public/jawiki/20200820/jawiki-20200820-pages-meta-current3.xml-p350786p803167.bz2']\n",
      "ko\n",
      "['/mnt/data/xmldatadumps/public/kowiki/20200820/kowiki-20200820-pages-meta-current4.xml-p512440p915641.bz2', '/mnt/data/xmldatadumps/public/kowiki/20200820/kowiki-20200820-pages-meta-current2.xml-p76865p239412.bz2', '/mnt/data/xmldatadumps/public/kowiki/20200820/kowiki-20200820-pages-meta-current5.xml-p915642p1626757.bz2', '/mnt/data/xmldatadumps/public/kowiki/20200820/kowiki-20200820-pages-meta-current6.xml-p1626758p2829290.bz2', '/mnt/data/xmldatadumps/public/kowiki/20200820/kowiki-20200820-pages-meta-current1.xml-p1p76864.bz2', '/mnt/data/xmldatadumps/public/kowiki/20200820/kowiki-20200820-pages-meta-current3.xml-p239413p512439.bz2']\n",
      "en\n",
      "['/mnt/data/xmldatadumps/public/enwiki/20200820/enwiki-20200820-pages-meta-current7.xml-p892913p1268691.bz2', '/mnt/data/xmldatadumps/public/enwiki/20200820/enwiki-20200820-pages-meta-current11.xml-p3046513p3926861.bz2', '/mnt/data/xmldatadumps/public/enwiki/20200820/enwiki-20200820-pages-meta-current26.xml-p38067203p39567202.bz2', '/mnt/data/xmldatadumps/public/enwiki/20200820/enwiki-20200820-pages-meta-current21.xml-p22722157p23927983.bz2', '/mnt/data/xmldatadumps/public/enwiki/20200820/enwiki-20200820-pages-meta-current14.xml-p6197595p7697594.bz2', '/mnt/data/xmldatadumps/public/enwiki/20200820/enwiki-20200820-pages-meta-current24.xml-p30503451p32003450.bz2', '/mnt/data/xmldatadumps/public/enwiki/20200820/enwiki-20200820-pages-meta-current2.xml-p30304p88444.bz2', '/mnt/data/xmldatadumps/public/enwiki/20200820/enwiki-20200820-pages-meta-current27.xml-p45663462p47163461.bz2', '/mnt/data/xmldatadumps/public/enwiki/20200820/enwiki-20200820-pages-meta-current27.xml-p47163462p48663461.bz2', '/mnt/data/xmldatadumps/public/enwiki/20200820/enwiki-20200820-pages-meta-current24.xml-p32003451p33503450.bz2', '/mnt/data/xmldatadumps/public/enwiki/20200820/enwiki-20200820-pages-meta-current27.xml-p62163462p63663461.bz2', '/mnt/data/xmldatadumps/public/enwiki/20200820/enwiki-20200820-pages-meta-current21.xml-p21222157p22722156.bz2', '/mnt/data/xmldatadumps/public/enwiki/20200820/enwiki-20200820-pages-meta-current27.xml-p54663462p56163461.bz2', '/mnt/data/xmldatadumps/public/enwiki/20200820/enwiki-20200820-pages-meta-current14.xml-p7697595p7744800.bz2', '/mnt/data/xmldatadumps/public/enwiki/20200820/enwiki-20200820-pages-meta-current27.xml-p59163462p60663461.bz2', '/mnt/data/xmldatadumps/public/enwiki/20200820/enwiki-20200820-pages-meta-current15.xml-p7744801p9244800.bz2', '/mnt/data/xmldatadumps/public/enwiki/20200820/enwiki-20200820-pages-meta-current25.xml-p33952816p35452815.bz2', '/mnt/data/xmldatadumps/public/enwiki/20200820/enwiki-20200820-pages-meta-current23.xml-p28323661p29823660.bz2', '/mnt/data/xmldatadumps/public/enwiki/20200820/enwiki-20200820-pages-meta-current25.xml-p36952816p38067202.bz2', '/mnt/data/xmldatadumps/public/enwiki/20200820/enwiki-20200820-pages-meta-current27.xml-p60663462p62163461.bz2', '/mnt/data/xmldatadumps/public/enwiki/20200820/enwiki-20200820-pages-meta-current1.xml-p1p30303.bz2', '/mnt/data/xmldatadumps/public/enwiki/20200820/enwiki-20200820-pages-meta-current27.xml-p42663462p44163461.bz2', '/mnt/data/xmldatadumps/public/enwiki/20200820/enwiki-20200820-pages-meta-current27.xml-p57663462p59163461.bz2', '/mnt/data/xmldatadumps/public/enwiki/20200820/enwiki-20200820-pages-meta-current5.xml-p352690p565313.bz2', '/mnt/data/xmldatadumps/public/enwiki/20200820/enwiki-20200820-pages-meta-current27.xml-p63663462p65010438.bz2', '/mnt/data/xmldatadumps/public/enwiki/20200820/enwiki-20200820-pages-meta-current20.xml-p20254736p21222156.bz2', '/mnt/data/xmldatadumps/public/enwiki/20200820/enwiki-20200820-pages-meta-current27.xml-p56163462p57663461.bz2', '/mnt/data/xmldatadumps/public/enwiki/20200820/enwiki-20200820-pages-meta-current12.xml-p3926862p5040436.bz2', '/mnt/data/xmldatadumps/public/enwiki/20200820/enwiki-20200820-pages-meta-current23.xml-p29823661p30503450.bz2', '/mnt/data/xmldatadumps/public/enwiki/20200820/enwiki-20200820-pages-meta-current24.xml-p33503451p33952815.bz2', '/mnt/data/xmldatadumps/public/enwiki/20200820/enwiki-20200820-pages-meta-current17.xml-p11539267p13039266.bz2', '/mnt/data/xmldatadumps/public/enwiki/20200820/enwiki-20200820-pages-meta-current3.xml-p88445p200509.bz2', '/mnt/data/xmldatadumps/public/enwiki/20200820/enwiki-20200820-pages-meta-current15.xml-p9244801p9518048.bz2', '/mnt/data/xmldatadumps/public/enwiki/20200820/enwiki-20200820-pages-meta-current13.xml-p5040437p6197594.bz2', '/mnt/data/xmldatadumps/public/enwiki/20200820/enwiki-20200820-pages-meta-current26.xml-p41067203p42567202.bz2', '/mnt/data/xmldatadumps/public/enwiki/20200820/enwiki-20200820-pages-meta-current16.xml-p9518049p11018048.bz2', '/mnt/data/xmldatadumps/public/enwiki/20200820/enwiki-20200820-pages-meta-current19.xml-p16120543p17620542.bz2', '/mnt/data/xmldatadumps/public/enwiki/20200820/enwiki-20200820-pages-meta-current26.xml-p39567203p41067202.bz2', '/mnt/data/xmldatadumps/public/enwiki/20200820/enwiki-20200820-pages-meta-current25.xml-p35452816p36952815.bz2', '/mnt/data/xmldatadumps/public/enwiki/20200820/enwiki-20200820-pages-meta-current8.xml-p1268692p1791079.bz2', '/mnt/data/xmldatadumps/public/enwiki/20200820/enwiki-20200820-pages-meta-current22.xml-p23927984p25427983.bz2', '/mnt/data/xmldatadumps/public/enwiki/20200820/enwiki-20200820-pages-meta-current23.xml-p26823661p28323660.bz2', '/mnt/data/xmldatadumps/public/enwiki/20200820/enwiki-20200820-pages-meta-current27.xml-p48663462p50163461.bz2', '/mnt/data/xmldatadumps/public/enwiki/20200820/enwiki-20200820-pages-meta-current18.xml-p13693074p15193073.bz2', '/mnt/data/xmldatadumps/public/enwiki/20200820/enwiki-20200820-pages-meta-current27.xml-p51663462p53163461.bz2', '/mnt/data/xmldatadumps/public/enwiki/20200820/enwiki-20200820-pages-meta-current20.xml-p18754736p20254735.bz2', '/mnt/data/xmldatadumps/public/enwiki/20200820/enwiki-20200820-pages-meta-current17.xml-p13039267p13693073.bz2', '/mnt/data/xmldatadumps/public/enwiki/20200820/enwiki-20200820-pages-meta-current10.xml-p2336423p3046512.bz2', '/mnt/data/xmldatadumps/public/enwiki/20200820/enwiki-20200820-pages-meta-current27.xml-p50163462p51663461.bz2', '/mnt/data/xmldatadumps/public/enwiki/20200820/enwiki-20200820-pages-meta-current26.xml-p42567203p42663461.bz2', '/mnt/data/xmldatadumps/public/enwiki/20200820/enwiki-20200820-pages-meta-current4.xml-p200510p352689.bz2', '/mnt/data/xmldatadumps/public/enwiki/20200820/enwiki-20200820-pages-meta-current18.xml-p15193074p16120542.bz2', '/mnt/data/xmldatadumps/public/enwiki/20200820/enwiki-20200820-pages-meta-current9.xml-p1791080p2336422.bz2', '/mnt/data/xmldatadumps/public/enwiki/20200820/enwiki-20200820-pages-meta-current6.xml-p565314p892912.bz2', '/mnt/data/xmldatadumps/public/enwiki/20200820/enwiki-20200820-pages-meta-current22.xml-p25427984p26823660.bz2', '/mnt/data/xmldatadumps/public/enwiki/20200820/enwiki-20200820-pages-meta-current27.xml-p53163462p54663461.bz2', '/mnt/data/xmldatadumps/public/enwiki/20200820/enwiki-20200820-pages-meta-current27.xml-p44163462p45663461.bz2', '/mnt/data/xmldatadumps/public/enwiki/20200820/enwiki-20200820-pages-meta-current19.xml-p17620543p18754735.bz2', '/mnt/data/xmldatadumps/public/enwiki/20200820/enwiki-20200820-pages-meta-current16.xml-p11018049p11539266.bz2']\n"
     ]
    },
    {
     "name": "stdout",
     "output_type": "stream",
     "text": [
      "es\n",
      "['/mnt/data/xmldatadumps/public/eswiki/20200820/eswiki-20200820-pages-meta-current4.xml-p3119673p4080860.bz2', '/mnt/data/xmldatadumps/public/eswiki/20200820/eswiki-20200820-pages-meta-current6.xml-p9424816p9562485.bz2', '/mnt/data/xmldatadumps/public/eswiki/20200820/eswiki-20200820-pages-meta-current5.xml-p5580861p6424815.bz2', '/mnt/data/xmldatadumps/public/eswiki/20200820/eswiki-20200820-pages-meta-current1.xml-p1p143637.bz2', '/mnt/data/xmldatadumps/public/eswiki/20200820/eswiki-20200820-pages-meta-current3.xml-p597335p1619672.bz2', '/mnt/data/xmldatadumps/public/eswiki/20200820/eswiki-20200820-pages-meta-current4.xml-p1619673p3119672.bz2', '/mnt/data/xmldatadumps/public/eswiki/20200820/eswiki-20200820-pages-meta-current5.xml-p4080861p5580860.bz2', '/mnt/data/xmldatadumps/public/eswiki/20200820/eswiki-20200820-pages-meta-current6.xml-p6424816p7924815.bz2', '/mnt/data/xmldatadumps/public/eswiki/20200820/eswiki-20200820-pages-meta-current6.xml-p7924816p9424815.bz2', '/mnt/data/xmldatadumps/public/eswiki/20200820/eswiki-20200820-pages-meta-current2.xml-p143638p597334.bz2']\n"
     ]
    }
   ],
   "source": [
    "import mwxml\n",
    "import json\n",
    "date = \"20200820\"\n",
    "\n",
    "for lang in pages.keys():\n",
    "    print(lang)\n",
    "    paths = glob.glob('/mnt/data/xmldatadumps/public/%swiki/%s/%swiki-%s-pages-meta-current*.xml*.bz2' % (lang,date,lang,date))\n",
    "    paths.remove('/mnt/data/xmldatadumps/public/%swiki/%s/%swiki-%s-pages-meta-current.xml.bz2' % (lang,date,lang,date))\n",
    "    print(paths)\n",
    "    #f = gzip.open('covid_pages_from_dump_current_%s.jsonl.gzip' % lang,'wb')\n",
    "    f = open('covid_pages_from_dump_current_%s.jsonl' % lang,'w')\n",
    "    for result in mwxml.map(process_dump, paths, threads = 40):\n",
    "        linedata = json.dumps(result) + '\\n'\n",
    "        #f.write(linedata.encode())\n",
    "        f.write(linedata)\n",
    "\n"
   ]
  },
  {
   "cell_type": "code",
   "execution_count": null,
   "metadata": {},
   "outputs": [],
   "source": []
  }
 ],
 "metadata": {
  "kernelspec": {
   "display_name": "Python 3",
   "language": "python",
   "name": "python3"
  },
  "language_info": {
   "codemirror_mode": {
    "name": "ipython",
    "version": 3
   },
   "file_extension": ".py",
   "mimetype": "text/x-python",
   "name": "python",
   "nbconvert_exporter": "python",
   "pygments_lexer": "ipython3",
   "version": "3.7.3"
  }
 },
 "nbformat": 4,
 "nbformat_minor": 4
}
