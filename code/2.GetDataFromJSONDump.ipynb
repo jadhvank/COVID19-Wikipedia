{
 "cells": [
  {
   "cell_type": "code",
   "execution_count": 3,
   "metadata": {},
   "outputs": [],
   "source": [
    "import json,gzip\n"
   ]
  },
  {
   "cell_type": "code",
   "execution_count": 41,
   "metadata": {},
   "outputs": [
    {
     "data": {
      "text/plain": [
       "b'[\\n'"
      ]
     },
     "execution_count": 41,
     "metadata": {},
     "output_type": "execute_result"
    }
   ],
   "source": [
    "f = gzip.open('/home/dsaez/dumps/wikidatawiki/entities/20200824/wikidata-20200824-all.json.gz','rb')\n",
    "f.readline()"
   ]
  },
  {
   "cell_type": "code",
   "execution_count": 42,
   "metadata": {},
   "outputs": [],
   "source": [
    "def getRelationships(claims,targetQs): #TODO change relationship to relation\n",
    "    '''\n",
    "    This function receives a list of claims from a Wikidata Item, and a list of target Qs\n",
    "    Iterating over the claims, looking for the target Qs and returning the pair Property and target Q\n",
    "    For example, if it find relationship Part of (P31) of Q12323 (that is the target list)\n",
    "    will return [(P31,Q3)]\n",
    "    inputs:\n",
    "    claims: object, result from wikidata queries like \n",
    "            'https://www.wikidata.org/w/api.php?action=wbgetentities&format=json&ids=Q5' \n",
    "    targetQs: list of str, where str are Q values \n",
    "    output:\n",
    "        return a list of pairs (prop,target)\n",
    "    '''\n",
    "    pairs = []\n",
    "    for prop, relationships in claims.items():\n",
    "        for relationship in relationships:\n",
    "            if 'mainsnak' in relationship:\n",
    "                datatype = relationship['mainsnak'].get('datatype','')\n",
    "                if datatype=='wikibase-item':\n",
    "                    try: #found some cases without  id even for a wikibase-item datatype\n",
    "                        Qfound = relationship['mainsnak']['datavalue']['value'].get('id','')\n",
    "                        if Qfound in targetQs:\n",
    "                            pairs.append([prop,targetQs[targetQs.index(Qfound)]])\n",
    "                    except:\n",
    "                        pass\n",
    "            if 'qualifiers' in relationship:\n",
    "                for qprop,qualifiers in relationship['qualifiers'].items():\n",
    "                    for qualifier in qualifiers:\n",
    "                        datatype = qualifier.get('datatype','')\n",
    "                        if datatype=='wikibase-item':\n",
    "                            try: #found some cases without  id even for a wikibase-item datatype\n",
    "                                Qfound = qualifier['datavalue']['value'].get('id','')\n",
    "                                if Qfound in targetQs:\n",
    "                                    pairs.append([prop,targetQs[targetQs.index(Qfound)]])\n",
    "                            except:\n",
    "                                pass\n",
    "    if not pairs:\n",
    "        pairs.append(['unknown','unknown'])\n",
    "    return pairs"
   ]
  },
  {
   "cell_type": "code",
   "execution_count": 43,
   "metadata": {},
   "outputs": [
    {
     "name": "stdout",
     "output_type": "stream",
     "text": [
      "1000000\n",
      "2000000\n",
      "3000000\n",
      "4000000\n",
      "5000000\n",
      "6000000\n",
      "7000000\n",
      "8000000\n",
      "9000000\n",
      "10000000\n",
      "11000000\n",
      "12000000\n",
      "13000000\n",
      "14000000\n",
      "15000000\n",
      "16000000\n",
      "17000000\n",
      "18000000\n",
      "19000000\n",
      "20000000\n",
      "21000000\n",
      "22000000\n",
      "23000000\n",
      "24000000\n",
      "25000000\n",
      "26000000\n",
      "27000000\n",
      "28000000\n",
      "29000000\n",
      "30000000\n",
      "31000000\n",
      "32000000\n",
      "33000000\n",
      "34000000\n",
      "35000000\n",
      "36000000\n",
      "37000000\n",
      "38000000\n",
      "39000000\n",
      "40000000\n",
      "41000000\n",
      "42000000\n",
      "43000000\n",
      "44000000\n",
      "45000000\n",
      "46000000\n",
      "47000000\n",
      "48000000\n",
      "49000000\n",
      "50000000\n",
      "51000000\n",
      "52000000\n",
      "53000000\n",
      "54000000\n",
      "55000000\n",
      "56000000\n",
      "57000000\n",
      "58000000\n",
      "59000000\n",
      "60000000\n",
      "61000000\n",
      "62000000\n",
      "63000000\n",
      "64000000\n",
      "65000000\n",
      "66000000\n",
      "67000000\n",
      "68000000\n",
      "69000000\n",
      "70000000\n",
      "71000000\n",
      "72000000\n",
      "73000000\n",
      "74000000\n",
      "75000000\n",
      "76000000\n",
      "77000000\n",
      "78000000\n",
      "79000000\n",
      "80000000\n",
      "81000000\n",
      "82000000\n",
      "83000000\n",
      "84000000\n",
      "85000000\n",
      "86000000\n",
      "87000000\n",
      "88000000\n"
     ]
    }
   ],
   "source": [
    "seeds  = ['Q84263196', 'Q81068910','Q82069695']\n",
    "outfile = open('relatedQFindByJsonDump.txt','w')\n",
    "c = 0\n",
    "for l in f:\n",
    "    c+=1\n",
    "    if c % 1000000==0: print(c)\n",
    "    jsonout = {}\n",
    "    ld = l.decode()[:-2] \n",
    "    for Q in seeds:\n",
    "        if Q in ld:\n",
    "            data= json.loads(ld)\n",
    "            relation = getRelationships(data['claims'],[seeds])\n",
    "            jsonout = {'Q':data['id'],'relation':relation}\n",
    "            \n",
    "            outfile.write(data['id']+'\\n')\n",
    "\n",
    "            outfile.write(json.dumps(jsonout)+'\\n')\n",
    "            \n",
    "outfile.close()    "
   ]
  },
  {
   "cell_type": "code",
   "execution_count": null,
   "metadata": {},
   "outputs": [],
   "source": []
  }
 ],
 "metadata": {
  "kernelspec": {
   "display_name": "Python 3",
   "language": "python",
   "name": "python3"
  },
  "language_info": {
   "codemirror_mode": {
    "name": "ipython",
    "version": 3
   },
   "file_extension": ".py",
   "mimetype": "text/x-python",
   "name": "python",
   "nbconvert_exporter": "python",
   "pygments_lexer": "ipython3",
   "version": "3.7.3"
  },
  "toc": {
   "base_numbering": 1,
   "nav_menu": {},
   "number_sections": true,
   "sideBar": true,
   "skip_h1_title": false,
   "title_cell": "Table of Contents",
   "title_sidebar": "Contents",
   "toc_cell": false,
   "toc_position": {},
   "toc_section_display": true,
   "toc_window_display": false
  },
  "varInspector": {
   "cols": {
    "lenName": 16,
    "lenType": 16,
    "lenVar": 40
   },
   "kernels_config": {
    "python": {
     "delete_cmd_postfix": "",
     "delete_cmd_prefix": "del ",
     "library": "var_list.py",
     "varRefreshCmd": "print(var_dic_list())"
    },
    "r": {
     "delete_cmd_postfix": ") ",
     "delete_cmd_prefix": "rm(",
     "library": "var_list.r",
     "varRefreshCmd": "cat(var_dic_list()) "
    }
   },
   "types_to_exclude": [
    "module",
    "function",
    "builtin_function_or_method",
    "instance",
    "_Feature"
   ],
   "window_display": false
  }
 },
 "nbformat": 4,
 "nbformat_minor": 4
}
